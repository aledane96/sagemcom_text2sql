{
 "cells": [
  {
   "cell_type": "code",
   "execution_count": 2,
   "metadata": {},
   "outputs": [
    {
     "name": "stdout",
     "output_type": "stream",
     "text": [
      "Collecting pymysql\n",
      "  Downloading PyMySQL-1.1.1-py3-none-any.whl.metadata (4.4 kB)\n",
      "Downloading PyMySQL-1.1.1-py3-none-any.whl (44 kB)\n",
      "Installing collected packages: pymysql\n",
      "Successfully installed pymysql-1.1.1\n"
     ]
    }
   ],
   "source": [
    "!pip install pymysql"
   ]
  },
  {
   "cell_type": "code",
   "execution_count": 2,
   "metadata": {},
   "outputs": [],
   "source": [
    "import pymysql\n"
   ]
  },
  {
   "cell_type": "code",
   "execution_count": 7,
   "metadata": {},
   "outputs": [],
   "source": [
    "conn = pymysql.connect(\n",
    "        host= \"localhost\",\n",
    "        database=\"sagemcom-text2sql\",\n",
    "        user=\"root\",\n",
    "        password=\"Cesenacesena1!\",\n",
    "        port=3306\n",
    "    )\n",
    "cur = conn.cursor()"
   ]
  },
  {
   "cell_type": "code",
   "execution_count": 7,
   "metadata": {},
   "outputs": [],
   "source": [
    "conn = pymysql.connect(\n",
    "        host= \"sagemcom-text2sql-db.ceginbcdboy1.eu-central-1.rds.amazonaws.com\",\n",
    "        database=\"sagemcom-text2sql-mysqldb\",#sagemcom-text2sql-db\n",
    "        user=\"admin\",\n",
    "        password=\"testsagemcomtext2sql\",\n",
    "        port=3306\n",
    "    )\n",
    "cur = conn.cursor()"
   ]
  },
  {
   "cell_type": "code",
   "execution_count": 9,
   "metadata": {},
   "outputs": [
    {
     "data": {
      "text/plain": [
       "24"
      ]
     },
     "execution_count": 9,
     "metadata": {},
     "output_type": "execute_result"
    }
   ],
   "source": [
    "cur.execute(\"\"\"SELECT \n",
    "    kcu.table_name AS referencing_table,\n",
    "    kcu.column_name AS referencing_column,\n",
    "    kcu.referenced_table_name AS referenced_table,\n",
    "    kcu.referenced_column_name AS referenced_column\n",
    "FROM \n",
    "    information_schema.key_column_usage AS kcu\n",
    "JOIN \n",
    "    information_schema.referential_constraints AS rc\n",
    "ON \n",
    "    kcu.constraint_name = rc.constraint_name\n",
    "    AND kcu.table_schema = rc.constraint_schema\n",
    "WHERE \n",
    "    kcu.table_schema = 'sagemcom-text2sql-mysqldb';\"\"\")"
   ]
  },
  {
   "cell_type": "code",
   "execution_count": 34,
   "metadata": {},
   "outputs": [
    {
     "name": "stdout",
     "output_type": "stream",
     "text": [
      "('customer_dim', 'Geography_ID', 'geography_dim', 'Geography_ID')\n",
      "('customer_dim', 'Age_Group_ID', 'age_group_dim', 'Age_Group_ID')\n",
      "('date_dim', 'Month_ID', 'month_dim', 'Month_ID')\n",
      "('date_dim', 'Year_ID', 'year_dim', 'Year_ID')\n",
      "('date_dim', 'Time_ID', 'time_dim', 'Time_ID')\n",
      "('product_dim', 'Subcategory_ID', 'subcategory_dim', 'Subcategory_ID')\n",
      "('product_dim', 'Manufacturer_ID', 'manufacturer_dim', 'Manufacturer_ID')\n",
      "('promotion_dim', 'Start_Date_ID', 'date_dim', 'Date_ID')\n",
      "('promotion_dim', 'End_Date_ID', 'date_dim', 'Date_ID')\n",
      "('return_fact', 'Sales_ID', 'sales_fact', 'Sales_ID')\n",
      "('return_fact', 'Date_ID', 'date_dim', 'Date_ID')\n",
      "('return_fact', 'Product_ID', 'product_dim', 'Product_ID')\n",
      "('return_fact', 'Customer_ID', 'customer_dim', 'Customer_Surrogate_Key')\n",
      "('return_fact', 'Store_ID', 'store_dim', 'Store_ID')\n",
      "('sales_fact', 'Date_ID', 'date_dim', 'Date_ID')\n",
      "('sales_fact', 'Customer_ID', 'customer_dim', 'Customer_Surrogate_Key')\n",
      "('sales_fact', 'Product_ID', 'product_dim', 'Product_ID')\n",
      "('sales_fact', 'Store_ID', 'store_dim', 'Store_ID')\n",
      "('sales_fact', 'Promotion_ID', 'promotion_dim', 'Promotion_ID')\n",
      "('sales_fact', 'Supplier_ID', 'supplier_dim', 'Supplier_ID')\n",
      "('store_dim', 'Geography_ID', 'geography_dim', 'Geography_ID')\n",
      "('store_dim', 'Store_Type_ID', 'store_type_dim', 'Store_Type_ID')\n",
      "('subcategory_dim', 'Category_ID', 'category_dim', 'Category_ID')\n",
      "('supplier_dim', 'Geography_ID', 'geography_dim', 'Geography_ID')\n"
     ]
    }
   ],
   "source": [
    "results = cur.fetchall()\n",
    "for row in results:\n",
    "   print(row)"
   ]
  },
  {
   "cell_type": "code",
   "execution_count": 41,
   "metadata": {},
   "outputs": [],
   "source": [
    "database=\"sagemcom-text2sql\"\n",
    "\n",
    "# Query 1: Get all table and column details\n",
    "schema_query = f\"\"\"\n",
    "SELECT c.table_name, c.column_name, c.data_type, c.is_nullable, c.column_default\n",
    "FROM information_schema.columns c\n",
    "WHERE c.table_schema = '{database}'\n",
    "ORDER BY c.table_name, c.ordinal_position;\n",
    "\"\"\"\n",
    "\n",
    "# Query 2: Get primary keys for each table\n",
    "primary_keys_query = f\"\"\"\n",
    "SELECT kcu.table_name, kcu.column_name\n",
    "FROM information_schema.table_constraints tc\n",
    "JOIN information_schema.key_column_usage kcu\n",
    "ON tc.constraint_name = kcu.constraint_name\n",
    "AND tc.table_schema = kcu.table_schema\n",
    "WHERE tc.constraint_type = 'PRIMARY KEY' AND tc.table_schema = '{database}';\n",
    "\"\"\"\n",
    "\n",
    "# Query 3: Get foreign keys and references for each table\n",
    "foreign_keys_query = f\"\"\"\n",
    "SELECT \n",
    "    kcu.table_name AS referencing_table,\n",
    "    kcu.column_name AS referencing_column,\n",
    "    kcu.referenced_table_name AS referenced_table\n",
    "FROM \n",
    "    information_schema.key_column_usage AS kcu\n",
    "JOIN \n",
    "    information_schema.referential_constraints AS rc\n",
    "ON \n",
    "    kcu.constraint_name = rc.constraint_name\n",
    "    AND kcu.table_schema = rc.constraint_schema\n",
    "WHERE \n",
    "    kcu.table_schema = '{database}';\n",
    "\"\"\"\n",
    "\n",
    "# Execute the queries and fetch results\n",
    "cur.execute(schema_query)\n",
    "columns_details = cur.fetchall()\n",
    "\n",
    "cur.execute(primary_keys_query)\n",
    "primary_keys = cur.fetchall()\n",
    "\n",
    "cur.execute(foreign_keys_query)\n",
    "foreign_keys = cur.fetchall()\n",
    "\n",
    "# Organize details into dictionaries\n",
    "schema_dict = {}\n",
    "primary_keys_dict = {table: set() for table, _ in primary_keys}\n",
    "foreign_keys_dict = {table: {} for table, _, _ in foreign_keys}\n",
    "\n",
    "for table, column in primary_keys:\n",
    "    primary_keys_dict[table].add(column)\n",
    "\n",
    "for table, column, ref_table in foreign_keys:\n",
    "    foreign_keys_dict[table][column] = ref_table\n",
    "\n",
    "# Build the schema dictionary\n",
    "for table, column, data_type, is_nullable, column_default in columns_details:\n",
    "    if table not in schema_dict:\n",
    "        schema_dict[table] = []\n",
    "    column_desc = f\"{column} ({data_type.upper()}\"\n",
    "\n",
    "    # Add primary key annotation\n",
    "    if column in primary_keys_dict.get(table, []):\n",
    "        column_desc += \", PRIMARY KEY\"\n",
    "\n",
    "    # Add foreign key reference\n",
    "    if column in foreign_keys_dict.get(table, {}):\n",
    "        column_desc += f\", FOREIGN KEY REFERENCES {foreign_keys_dict[table][column]}\"\n",
    "\n",
    "    column_desc += \")\"\n",
    "    schema_dict[table].append(column_desc)\n",
    "\n",
    "# Format the schema string\n",
    "schema_str = \"\"\n",
    "for table, columns in schema_dict.items():\n",
    "    schema_str += f\"{table}:\\n\"\n",
    "    for col in columns:\n",
    "        schema_str += f\"- {col}\\n\"\n",
    "    schema_str += \"\\n\""
   ]
  },
  {
   "cell_type": "code",
   "execution_count": 43,
   "metadata": {},
   "outputs": [
    {
     "name": "stdout",
     "output_type": "stream",
     "text": [
      "{\n",
      "    \"age_group_dim\": [\n",
      "        \"Age_Group_ID (INT, PRIMARY KEY)\",\n",
      "        \"Age_Range (VARCHAR)\"\n",
      "    ],\n",
      "    \"category_dim\": [\n",
      "        \"Category_ID (INT, PRIMARY KEY)\",\n",
      "        \"Category_Name (VARCHAR)\"\n",
      "    ],\n",
      "    \"customer_dim\": [\n",
      "        \"Customer_ID (INT)\",\n",
      "        \"Customer_Surrogate_Key (INT, PRIMARY KEY)\",\n",
      "        \"Customer_Name (VARCHAR)\",\n",
      "        \"Geography_ID (INT, FOREIGN KEY REFERENCES geography_dim)\",\n",
      "        \"Age_Group_ID (INT, FOREIGN KEY REFERENCES age_group_dim)\",\n",
      "        \"Start_Date (DATE)\",\n",
      "        \"End_Date (DATE)\",\n",
      "        \"Is_Current (TINYINT)\"\n",
      "    ],\n",
      "    \"date_dim\": [\n",
      "        \"Date_ID (INT, PRIMARY KEY)\",\n",
      "        \"Date (DATE)\",\n",
      "        \"Day (INT)\",\n",
      "        \"Month_ID (INT, FOREIGN KEY REFERENCES month_dim)\",\n",
      "        \"Year_ID (INT, FOREIGN KEY REFERENCES year_dim)\",\n",
      "        \"Time_ID (INT, FOREIGN KEY REFERENCES time_dim)\"\n",
      "    ],\n",
      "    \"geography_dim\": [\n",
      "        \"Geography_ID (INT, PRIMARY KEY)\",\n",
      "        \"Country (VARCHAR)\",\n",
      "        \"State (VARCHAR)\",\n",
      "        \"City (VARCHAR)\"\n",
      "    ],\n",
      "    \"manufacturer_dim\": [\n",
      "        \"Manufacturer_ID (INT, PRIMARY KEY)\",\n",
      "        \"Manufacturer_Name (VARCHAR)\"\n",
      "    ],\n",
      "    \"month_dim\": [\n",
      "        \"Month_ID (INT, PRIMARY KEY)\",\n",
      "        \"Month_Name (VARCHAR)\"\n",
      "    ],\n",
      "    \"product_dim\": [\n",
      "        \"Product_ID (INT, PRIMARY KEY)\",\n",
      "        \"Product_Name (VARCHAR)\",\n",
      "        \"Subcategory_ID (INT, FOREIGN KEY REFERENCES subcategory_dim)\",\n",
      "        \"Manufacturer_ID (INT, FOREIGN KEY REFERENCES manufacturer_dim)\"\n",
      "    ],\n",
      "    \"promotion_dim\": [\n",
      "        \"Promotion_ID (INT, PRIMARY KEY)\",\n",
      "        \"Promotion_Type (VARCHAR)\",\n",
      "        \"Promotion_Desc (VARCHAR)\",\n",
      "        \"Discount_Percentage (DECIMAL)\",\n",
      "        \"Start_Date_ID (INT, FOREIGN KEY REFERENCES date_dim)\",\n",
      "        \"End_Date_ID (INT, FOREIGN KEY REFERENCES date_dim)\"\n",
      "    ],\n",
      "    \"return_fact\": [\n",
      "        \"Return_ID (INT, PRIMARY KEY)\",\n",
      "        \"Sales_ID (INT, FOREIGN KEY REFERENCES sales_fact)\",\n",
      "        \"Date_ID (INT, FOREIGN KEY REFERENCES date_dim)\",\n",
      "        \"Product_ID (INT, FOREIGN KEY REFERENCES product_dim)\",\n",
      "        \"Customer_ID (INT, FOREIGN KEY REFERENCES customer_dim)\",\n",
      "        \"Store_ID (INT, FOREIGN KEY REFERENCES store_dim)\",\n",
      "        \"Return_Quantity (INT)\",\n",
      "        \"Return_Amount (DECIMAL)\"\n",
      "    ],\n",
      "    \"sales_fact\": [\n",
      "        \"Sales_ID (INT, PRIMARY KEY)\",\n",
      "        \"Date_ID (INT, FOREIGN KEY REFERENCES date_dim)\",\n",
      "        \"Customer_ID (INT, FOREIGN KEY REFERENCES customer_dim)\",\n",
      "        \"Product_ID (INT, FOREIGN KEY REFERENCES product_dim)\",\n",
      "        \"Store_ID (INT, FOREIGN KEY REFERENCES store_dim)\",\n",
      "        \"Promotion_ID (INT, FOREIGN KEY REFERENCES promotion_dim)\",\n",
      "        \"Supplier_ID (INT, FOREIGN KEY REFERENCES supplier_dim)\",\n",
      "        \"Quantity_Sold (INT)\",\n",
      "        \"Sales_Amount (DECIMAL)\"\n",
      "    ],\n",
      "    \"store_dim\": [\n",
      "        \"Store_ID (INT, PRIMARY KEY)\",\n",
      "        \"Store_Name (VARCHAR)\",\n",
      "        \"Geography_ID (INT, FOREIGN KEY REFERENCES geography_dim)\",\n",
      "        \"Store_Type_ID (INT, FOREIGN KEY REFERENCES store_type_dim)\"\n",
      "    ],\n",
      "    \"store_type_dim\": [\n",
      "        \"Store_Type_ID (INT, PRIMARY KEY)\",\n",
      "        \"Store_Type (VARCHAR)\"\n",
      "    ],\n",
      "    \"subcategory_dim\": [\n",
      "        \"Subcategory_ID (INT, PRIMARY KEY)\",\n",
      "        \"Subcategory_Name (VARCHAR)\",\n",
      "        \"Category_ID (INT, FOREIGN KEY REFERENCES category_dim)\"\n",
      "    ],\n",
      "    \"supplier_dim\": [\n",
      "        \"Supplier_ID (INT, PRIMARY KEY)\",\n",
      "        \"Supplier_Name (VARCHAR)\",\n",
      "        \"Geography_ID (INT, FOREIGN KEY REFERENCES geography_dim)\"\n",
      "    ],\n",
      "    \"time_dim\": [\n",
      "        \"Time_ID (INT, PRIMARY KEY)\",\n",
      "        \"Hour (INT)\",\n",
      "        \"Minute (INT)\",\n",
      "        \"Second (INT)\"\n",
      "    ],\n",
      "    \"year_dim\": [\n",
      "        \"Year_ID (INT, PRIMARY KEY)\",\n",
      "        \"Year_Value (INT)\"\n",
      "    ]\n",
      "}\n"
     ]
    }
   ],
   "source": [
    "import json\n",
    "print(json.dumps(schema_dict, indent=4))"
   ]
  },
  {
   "cell_type": "code",
   "execution_count": 1,
   "metadata": {},
   "outputs": [
    {
     "data": {
      "text/plain": [
       "3306"
      ]
     },
     "execution_count": 1,
     "metadata": {},
     "output_type": "execute_result"
    }
   ],
   "source": [
    "aa = \"3306\"\n",
    "int(aa)"
   ]
  }
 ],
 "metadata": {
  "kernelspec": {
   "display_name": "Python 3",
   "language": "python",
   "name": "python3"
  },
  "language_info": {
   "codemirror_mode": {
    "name": "ipython",
    "version": 3
   },
   "file_extension": ".py",
   "mimetype": "text/x-python",
   "name": "python",
   "nbconvert_exporter": "python",
   "pygments_lexer": "ipython3",
   "version": "3.11.9"
  }
 },
 "nbformat": 4,
 "nbformat_minor": 2
}
